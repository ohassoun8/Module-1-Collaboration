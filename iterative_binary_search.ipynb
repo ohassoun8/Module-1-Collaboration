{
 "cells": [
  {
   "cell_type": "code",
   "execution_count": null,
   "id": "c0d5879d-cc5d-4e86-b0ca-58895f492f87",
   "metadata": {},
   "outputs": [],
   "source": [
    "# Binary Search.\n",
    "\n",
    "# Returns location of x in given array arr\n",
    "def binarySearch(arr, low, high, x):\n",
    "    while low <= high:\n",
    "        mid = low + (high - low) // 2\n",
    "\n",
    "        # Check if x is present at mid\n",
    "        if arr[mid] == x:\n",
    "            return mid\n",
    "\n",
    "        # If x is greater, ignore left half\n",
    "        elif arr[mid] < x:\n",
    "            low = mid + 1\n",
    "\n",
    "        # If x is smaller, ignore right half\n",
    "        else:\n",
    "            high = mid - 1\n",
    "\n",
    "    # The element was not present\n",
    "    return -1\n",
    "\n",
    "\n",
    "# Driver Code\n",
    "if __name__ == '__main__':\n",
    "    # Example 1\n",
    "    arr1 = [1, 2, 3, 4, 5]\n",
    "    k1 = 4\n",
    "    result1 = binarySearch(arr1, 0, len(arr1) - 1, k1)\n",
    "    if result1 != -1:\n",
    "        print(\"Element is present at index\", result1)\n",
    "    else:\n",
    "        print(\"Element is not present in array\")\n",
    "\n",
    "    # Example 2\n",
    "    arr2 = [11, 22, 33, 44, 55]\n",
    "    k2 = 445\n",
    "    result2 = binarySearch(arr2, 0, len(arr2) - 1, k2)\n",
    "    if result2 != -1:\n",
    "        print(\"Element is present at index\", result2)\n",
    "    else:\n",
    "        print(\"Element is not present in array\")\n",
    "\n",
    "    # Example 3\n",
    "    arr3 = [1, 1, 1, 1, 2]\n",
    "    k3 = 1\n",
    "    result3 = binarySearch(arr3, 0, len(arr3) - 1, k3)\n",
    "    if result3 != -1:\n",
    "        print(\"Element is present at index\", result3)\n",
    "    else:\n",
    "        print(\"Element is not present in array\")"
   ]
  }
 ],
 "metadata": {
  "kernelspec": {
   "display_name": "Python 3 (ipykernel)",
   "language": "python",
   "name": "python3"
  },
  "language_info": {
   "codemirror_mode": {
    "name": "ipython",
    "version": 3
   },
   "file_extension": ".py",
   "mimetype": "text/x-python",
   "name": "python",
   "nbconvert_exporter": "python",
   "pygments_lexer": "ipython3",
   "version": "3.12.7"
  }
 },
 "nbformat": 4,
 "nbformat_minor": 5
}
