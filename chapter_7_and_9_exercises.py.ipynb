{
 "cells": [
  {
   "cell_type": "code",
   "execution_count": 1,
   "id": "6f6461bf-16ee-4595-849a-fd0ebe500107",
   "metadata": {},
   "outputs": [
    {
     "name": "stdout",
     "output_type": "stream",
     "text": [
      "7.4 Initial list: ['mozzarella', 'cinderella', 'salmonella']\n",
      "7.5 List after capitalizing person: ['mozzarella', 'Cinderella', 'salmonella']\n",
      "7.6 List after uppercasing cheesy element: ['MOZZARELLA', 'Cinderella', 'salmonella']\n",
      "7.7 List after deleting disease element: ['MOZZARELLA', 'Cinderella']\n",
      "9.1 Output of good(): ['Harry', 'Ron', 'Hermione']\n",
      "9.2 Third odd number: 5\n"
     ]
    }
   ],
   "source": [
    "# 7.4 \n",
    "things = [\"mozzarella\", \"cinderella\", \"salmonella\"]\n",
    "print(\"7.4 Initial list:\", things)\n",
    "\n",
    "# 7.5 \n",
    "things[1] = things[1].capitalize()  # \"cinderella\" \n",
    "print(\"7.5 List after capitalizing person:\", things)\n",
    "\n",
    "# 7.6 \n",
    "things[0] = things[0].upper()  # \"mozzarella\" \n",
    "print(\"7.6 List after uppercasing cheesy element:\", things)\n",
    "\n",
    "# 7.7 \n",
    "del things[2]  # \"salmonella\" \n",
    "print(\"7.7 List after deleting disease element:\", things)\n",
    "\n",
    "# 9.1\n",
    "def good():\n",
    "    return ['Harry', 'Ron', 'Hermione']\n",
    "\n",
    "# Test the function\n",
    "print(\"9.1 Output of good():\", good())\n",
    "\n",
    "# 9.2 \n",
    "def get_odds():\n",
    "    for number in range(10):\n",
    "        if number % 2 != 0:  # Check if the number is odd\n",
    "            yield number\n",
    "\n",
    "# Use a for loop to find and print the third value returned\n",
    "count = 0\n",
    "for odd_number in get_odds():\n",
    "    count += 1\n",
    "    if count == 3:\n",
    "        print(\"9.2 Third odd number:\", odd_number)\n",
    "        break"
   ]
  },
  {
   "cell_type": "code",
   "execution_count": null,
   "id": "abbaff6f-4641-4e86-9cc6-d39f5dedac12",
   "metadata": {},
   "outputs": [],
   "source": []
  }
 ],
 "metadata": {
  "kernelspec": {
   "display_name": "Python 3 (ipykernel)",
   "language": "python",
   "name": "python3"
  },
  "language_info": {
   "codemirror_mode": {
    "name": "ipython",
    "version": 3
   },
   "file_extension": ".py",
   "mimetype": "text/x-python",
   "name": "python",
   "nbconvert_exporter": "python",
   "pygments_lexer": "ipython3",
   "version": "3.12.7"
  }
 },
 "nbformat": 4,
 "nbformat_minor": 5
}
