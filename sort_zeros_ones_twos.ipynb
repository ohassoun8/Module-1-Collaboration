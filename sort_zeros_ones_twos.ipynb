{
 "cells": [
  {
   "cell_type": "code",
   "execution_count": 1,
   "id": "26c64ee9-72c4-4679-9712-bdfb579e81c6",
   "metadata": {},
   "outputs": [
    {
     "name": "stdout",
     "output_type": "stream",
     "text": [
      "0 0 1 1 2 2 "
     ]
    }
   ],
   "source": [
    "# Python program to sort an array of 0s, 1s and 2s \n",
    "# using Dutch National Flag Algorithm\n",
    "\n",
    "# Function to sort an array of 0s, 1s and 2s\n",
    "def sort012(arr):\n",
    "    n = len(arr)\n",
    "    lo = 0\n",
    "    hi = n - 1\n",
    "    mid = 0\n",
    "\n",
    "    # Iterate till all the elements are sorted\n",
    "    while mid <= hi:\n",
    "      if arr[mid] == 0:\n",
    "        arr[lo], arr[mid] = arr[mid], arr[lo]\n",
    "        lo = lo + 1\n",
    "        mid = mid + 1\n",
    "        \n",
    "      elif arr[mid] == 1:\n",
    "        mid = mid + 1\n",
    "        \n",
    "      else:\n",
    "        arr[mid], arr[hi] = arr[hi], arr[mid]\n",
    "        hi = hi - 1\n",
    "        \n",
    "    return arr\n",
    "\n",
    "arr = [0, 1, 2, 0, 1, 2]\n",
    "arr = sort012(arr)\n",
    "\n",
    "for x in arr:\n",
    "    print(x, end=\" \")"
   ]
  },
  {
   "cell_type": "code",
   "execution_count": 2,
   "id": "275e8cb9-ca83-4657-9023-c7f5dfe4fdec",
   "metadata": {},
   "outputs": [
    {
     "name": "stdout",
     "output_type": "stream",
     "text": [
      "0 0 0 0 0 1 1 1 1 1 2 2 "
     ]
    }
   ],
   "source": [
    "# Function to sort an array of 0s, 1s and 2s\n",
    "def sort012(arr):\n",
    "    c0 = 0\n",
    "    c1 = 0\n",
    "    c2 = 0\n",
    "\n",
    "    # Count 0s, 1s and 2s\n",
    "    for num in arr:\n",
    "        if num == 0:\n",
    "            c0 += 1\n",
    "        elif num == 1:\n",
    "            c1 += 1\n",
    "        else:\n",
    "            c2 += 1\n",
    "\n",
    "    idx = 0\n",
    "    \n",
    "    # Place all the 0s\n",
    "    for i in range(c0):\n",
    "        arr[idx] = 0\n",
    "        idx += 1\n",
    "\n",
    "    # Place all the 1s\n",
    "    for i in range(c1):\n",
    "        arr[idx] = 1\n",
    "        idx += 1\n",
    "\n",
    "    # Place all the 2s\n",
    "    for i in range(c2):\n",
    "        arr[idx] = 2\n",
    "        idx += 1\n",
    "\n",
    "\n",
    "# New input array\n",
    "arr = [0, 1, 1, 0, 1, 2, 1, 2, 0, 0, 0, 1]\n",
    "sort012(arr)\n",
    "\n",
    "# Print the sorted array\n",
    "for x in arr:\n",
    "    print(x, end=\" \")"
   ]
  },
  {
   "cell_type": "code",
   "execution_count": null,
   "id": "59e2f54c-3279-4d75-82be-6465138bc125",
   "metadata": {},
   "outputs": [],
   "source": []
  }
 ],
 "metadata": {
  "kernelspec": {
   "display_name": "Python 3 (ipykernel)",
   "language": "python",
   "name": "python3"
  },
  "language_info": {
   "codemirror_mode": {
    "name": "ipython",
    "version": 3
   },
   "file_extension": ".py",
   "mimetype": "text/x-python",
   "name": "python",
   "nbconvert_exporter": "python",
   "pygments_lexer": "ipython3",
   "version": "3.12.7"
  }
 },
 "nbformat": 4,
 "nbformat_minor": 5
}
